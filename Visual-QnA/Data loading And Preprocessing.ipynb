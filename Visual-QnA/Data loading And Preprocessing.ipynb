{
 "cells": [
  {
   "cell_type": "markdown",
   "id": "04dd2be9",
   "metadata": {},
   "source": [
    "# Downloading Data"
   ]
  },
  {
   "cell_type": "markdown",
   "id": "19a3c503",
   "metadata": {},
   "source": [
    "Downloaded questions and annotations files manually form website and images thorugh wget , as shown here,since it was very big in size."
   ]
  },
  {
   "cell_type": "code",
   "execution_count": 1,
   "id": "8718658d",
   "metadata": {},
   "outputs": [],
   "source": [
    "import wget\n",
    "url = \"http://images.cocodataset.org/zips/val2014.zip\"\n",
    "path = \"C:/Users/subbh/Desktop/val2014.zip\"\n",
    "wget.download(url,path)\n",
    "\n",
    "import wget\n",
    "\n",
    "\n",
    "url = \"http://images.cocodataset.org/zips/train2014.zip\"\n",
    "path = \"C:/Users/subbh/Desktop/train2014.zip\"\n",
    "wget.download(url, path)"
   ]
  },
  {
   "cell_type": "markdown",
   "id": "453812e3",
   "metadata": {},
   "source": [
    "# Formating Image names"
   ]
  },
  {
   "cell_type": "code",
   "execution_count": 2,
   "id": "2342864a",
   "metadata": {},
   "outputs": [
    {
     "name": "stdout",
     "output_type": "stream",
     "text": [
      "Files have been renamed.\n"
     ]
    }
   ],
   "source": [
    "import os\n",
    "\n",
    "directory_path = 'C:/Users/subbh/Desktop/trainimage/train2014'\n",
    "\n",
    "\n",
    "for filename in os.listdir(directory_path):\n",
    "    if filename.startswith('COCO_train2014_'):\n",
    "        id_part = filename.split('_')[-1]\n",
    "        image_id = int(id_part.split('.')[0])\n",
    "        new_filename = f\"image{image_id}.jpg\"\n",
    "        old_file = os.path.join(directory_path, filename)\n",
    "        new_file = os.path.join(directory_path, new_filename)\n",
    "        os.rename(old_file, new_file)\n",
    "\n",
    "print(\"Files have been renamed.\")"
   ]
  },
  {
   "cell_type": "code",
   "execution_count": 3,
   "id": "12a2f437",
   "metadata": {},
   "outputs": [
    {
     "name": "stdout",
     "output_type": "stream",
     "text": [
      "Files have been renamed.\n"
     ]
    }
   ],
   "source": [
    "import os\n",
    "directory_path = 'C:/Users/subbh/Desktop/valimage/val2014'\n",
    "for filename in os.listdir(directory_path):\n",
    "    if filename.startswith('COCO_val2014_'):\n",
    "        id_part = filename.split('_')[-1]\n",
    "        image_id = int(id_part.split('.')[0])\n",
    "        new_filename = f\"image{image_id}.jpg\"\n",
    "        old_file = os.path.join(directory_path, filename)\n",
    "        new_file = os.path.join(directory_path, new_filename)\n",
    "        os.rename(old_file, new_file)\n",
    "\n",
    "print(\"Files have been renamed.\")"
   ]
  },
  {
   "cell_type": "markdown",
   "id": "dccdcb1b",
   "metadata": {},
   "source": [
    "# Dataframe creation"
   ]
  },
  {
   "cell_type": "code",
   "execution_count": 4,
   "id": "efe449b7",
   "metadata": {},
   "outputs": [],
   "source": [
    "import json"
   ]
  },
  {
   "cell_type": "code",
   "execution_count": 5,
   "id": "cc04abf0",
   "metadata": {},
   "outputs": [],
   "source": [
    "train_file_questions = 'C:/Users/subbh/Downloads/v2_Questions_Train_mscoco/v2_OpenEnded_mscoco_train2014_questions.json'\n",
    "train_file_annotations = 'C:/Users/subbh/Downloads/v2_Annotations_Train_mscoco/v2_mscoco_train2014_annotations.json'\n",
    "val_file_questions = 'C:/Users/subbh/Downloads/v2_Questions_Val_mscoco/v2_OpenEnded_mscoco_val2014_questions.json'\n",
    "val_file_annotations = 'C:/Users/subbh/Downloads/v2_Annotations_Val_mscoco/v2_mscoco_val2014_annotations.json'\n",
    "test_file_questions = 'C:/Users/subbh/Downloads/v2_Questions_Test_mscoco/v2_OpenEnded_mscoco_test2015_questions.json'"
   ]
  },
  {
   "cell_type": "code",
   "execution_count": 6,
   "id": "b3add71d",
   "metadata": {},
   "outputs": [],
   "source": [
    "with open(train_file_questions, 'r') as f:\n",
    "    train_questions = json.load(f)['questions']\n",
    "    f.close()\n",
    "\n",
    "with open(train_file_annotations, 'r') as f:\n",
    "    train_annotations = json.load(f)['annotations']\n",
    "    f.close()\n",
    "\n",
    "with open(val_file_questions, 'r') as f:\n",
    "    val_questions = json.load(f)['questions']\n",
    "    f.close()\n",
    "\n",
    "with open(val_file_annotations, 'r') as f:\n",
    "    val_annotations = json.load(f)['annotations']\n",
    "    f.close()"
   ]
  },
  {
   "cell_type": "code",
   "execution_count": 7,
   "id": "444dd69a",
   "metadata": {},
   "outputs": [
    {
     "name": "stdout",
     "output_type": "stream",
     "text": [
      "{'question_type': 'what is this', 'multiple_choice_answer': 'net', 'answers': [{'answer': 'net', 'answer_confidence': 'maybe', 'answer_id': 1}, {'answer': 'net', 'answer_confidence': 'yes', 'answer_id': 2}, {'answer': 'net', 'answer_confidence': 'yes', 'answer_id': 3}, {'answer': 'netting', 'answer_confidence': 'yes', 'answer_id': 4}, {'answer': 'net', 'answer_confidence': 'yes', 'answer_id': 5}, {'answer': 'net', 'answer_confidence': 'yes', 'answer_id': 6}, {'answer': 'mesh', 'answer_confidence': 'maybe', 'answer_id': 7}, {'answer': 'net', 'answer_confidence': 'yes', 'answer_id': 8}, {'answer': 'net', 'answer_confidence': 'yes', 'answer_id': 9}, {'answer': 'net', 'answer_confidence': 'yes', 'answer_id': 10}], 'image_id': 458752, 'answer_type': 'other', 'question_id': 458752000}\n"
     ]
    }
   ],
   "source": [
    "for i in train_annotations:\n",
    "    print(i)\n",
    "    break"
   ]
  },
  {
   "cell_type": "code",
   "execution_count": 8,
   "id": "80640df1",
   "metadata": {},
   "outputs": [
    {
     "name": "stdout",
     "output_type": "stream",
     "text": [
      "{'image_id': 458752, 'question': 'What is this photo taken looking through?', 'question_id': 458752000}\n"
     ]
    }
   ],
   "source": [
    "for i in train_questions:\n",
    "    print(i)\n",
    "    break"
   ]
  },
  {
   "cell_type": "code",
   "execution_count": 13,
   "id": "5d9ecced",
   "metadata": {},
   "outputs": [],
   "source": [
    "import os\n",
    "val_images_dir = 'C:/Users/subbh/Desktop/valimage/val2014'\n",
    "train_images_dir = 'C:/Users/subbh/Desktop/trainimage/train2014'\n",
    "\n",
    "def list_files(directory):\n",
    "    return [f for f in os.listdir(directory) if os.path.isfile(os.path.join(directory, f))]"
   ]
  },
  {
   "cell_type": "code",
   "execution_count": 14,
   "id": "368bbdd6",
   "metadata": {},
   "outputs": [],
   "source": [
    "val_images = list_files(val_images_dir)\n",
    "train_images = list_files(train_images_dir)\n",
    "all_images = val_images + train_images\n",
    "all_images = sorted(all_images)\n",
    "image_names_no_ext = [name.replace('.jpg', '') for name in all_images]"
   ]
  },
  {
   "cell_type": "code",
   "execution_count": 15,
   "id": "e866e1e5",
   "metadata": {},
   "outputs": [],
   "source": [
    "import pandas as pd\n",
    "data = []\n",
    "for question in train_questions:\n",
    "    q_id = question['question_id']\n",
    "    image_id = question['image_id']\n",
    "    for annotation in train_annotations:\n",
    "        if annotation['image_id'] == image_id and annotation['question_id']==q_id:\n",
    "            answer = annotation['multiple_choice_answer']\n",
    "            #print(answer,q_id,image_id)\n",
    "            data.append({'question': question['question'], 'answer': answer, 'image_id': \"image\" + str(question['image_id'])})"
   ]
  },
  {
   "cell_type": "code",
   "execution_count": 16,
   "id": "2d86dc9a",
   "metadata": {},
   "outputs": [],
   "source": [
    "for question in val_questions:\n",
    "    q_id = question['question_id']\n",
    "    image_id = question['image_id']\n",
    "    for annotation in val_annotations:\n",
    "        if annotation['image_id'] == image_id and annotation['question_id']==q_id :\n",
    "            answer = annotation['multiple_choice_answer']\n",
    "            data.append({'question': question['question'], 'answer': answer, 'image_id': \"image\"+str(question['image_id'])})"
   ]
  },
  {
   "cell_type": "code",
   "execution_count": 17,
   "id": "a2858ae0",
   "metadata": {},
   "outputs": [],
   "source": [
    "df = pd.DataFrame(data)"
   ]
  },
  {
   "cell_type": "code",
   "execution_count": 18,
   "id": "3afefd37",
   "metadata": {},
   "outputs": [],
   "source": [
    "df = df[df['image_id'].isin(image_names_no_ext)]"
   ]
  },
  {
   "cell_type": "code",
   "execution_count": 19,
   "id": "e6573649",
   "metadata": {},
   "outputs": [],
   "source": [
    "df = pd.DataFrame(data)\n",
    "df = df.sample(n=10000, random_state=42)"
   ]
  },
  {
   "cell_type": "code",
   "execution_count": 20,
   "id": "be77d31f",
   "metadata": {},
   "outputs": [
    {
     "data": {
      "text/html": [
       "<div>\n",
       "<style scoped>\n",
       "    .dataframe tbody tr th:only-of-type {\n",
       "        vertical-align: middle;\n",
       "    }\n",
       "\n",
       "    .dataframe tbody tr th {\n",
       "        vertical-align: top;\n",
       "    }\n",
       "\n",
       "    .dataframe thead th {\n",
       "        text-align: right;\n",
       "    }\n",
       "</style>\n",
       "<table border=\"1\" class=\"dataframe\">\n",
       "  <thead>\n",
       "    <tr style=\"text-align: right;\">\n",
       "      <th></th>\n",
       "      <th>question</th>\n",
       "      <th>answer</th>\n",
       "      <th>image_id</th>\n",
       "    </tr>\n",
       "  </thead>\n",
       "  <tbody>\n",
       "    <tr>\n",
       "      <th>65</th>\n",
       "      <td>What is the small computer on the left called?</td>\n",
       "      <td>laptop</td>\n",
       "      <td>image131075</td>\n",
       "    </tr>\n",
       "    <tr>\n",
       "      <th>114</th>\n",
       "      <td>How many are playing ball?</td>\n",
       "      <td>1</td>\n",
       "      <td>image131089</td>\n",
       "    </tr>\n",
       "    <tr>\n",
       "      <th>16</th>\n",
       "      <td>Is she brushing?</td>\n",
       "      <td>yes</td>\n",
       "      <td>image393223</td>\n",
       "    </tr>\n",
       "    <tr>\n",
       "      <th>141</th>\n",
       "      <td>Are there any boxes in the room?</td>\n",
       "      <td>no</td>\n",
       "      <td>image262162</td>\n",
       "    </tr>\n",
       "    <tr>\n",
       "      <th>156</th>\n",
       "      <td>Does the door open inward or outward?</td>\n",
       "      <td>inward</td>\n",
       "      <td>image131108</td>\n",
       "    </tr>\n",
       "  </tbody>\n",
       "</table>\n",
       "</div>"
      ],
      "text/plain": [
       "                                           question  answer     image_id\n",
       "65   What is the small computer on the left called?  laptop  image131075\n",
       "114                      How many are playing ball?       1  image131089\n",
       "16                                 Is she brushing?     yes  image393223\n",
       "141                Are there any boxes in the room?      no  image262162\n",
       "156           Does the door open inward or outward?  inward  image131108"
      ]
     },
     "execution_count": 20,
     "metadata": {},
     "output_type": "execute_result"
    }
   ],
   "source": [
    "df.head()"
   ]
  },
  {
   "cell_type": "code",
   "execution_count": 23,
   "id": "52d0f3cd",
   "metadata": {},
   "outputs": [
    {
     "name": "stdout",
     "output_type": "stream",
     "text": [
      "Image files have been copied to the destination directory.\n"
     ]
    }
   ],
   "source": [
    "import shutil\n",
    "\n",
    "\n",
    "train_dir = 'C:/Users/subbh/Desktop/trainimage/train2014'\n",
    "val_dir = 'C:/Users/subbh/Desktop/valimage/val2014'\n",
    "destination_dir = 'C:/Users/subbh/Desktop/images'\n",
    "\n",
    "\n",
    "os.makedirs(destination_dir, exist_ok=True)\n",
    "\n",
    "\n",
    "for image_id in df['image_id']:\n",
    "    image_file = f\"{image_id}.jpg\"\n",
    "    \n",
    "    source_path = os.path.join(train_dir, image_file)\n",
    "    destination_path = os.path.join(destination_dir, image_file)\n",
    "    if os.path.exists(source_path):\n",
    "        shutil.copy(source_path, destination_path)\n",
    "        \n",
    "    source_path1 = os.path.join(train_dir, image_file)\n",
    "    if os.path.exists(source_path1):\n",
    "        shutil.copy(source_path1, destination_path)\n",
    "\n",
    "print(\"Image files have been copied to the destination directory.\")\n"
   ]
  },
  {
   "cell_type": "code",
   "execution_count": 25,
   "id": "6f2d4d96",
   "metadata": {},
   "outputs": [],
   "source": [
    "from sklearn.model_selection import train_test_split\n",
    "train_data, eval_data = train_test_split(df, test_size=0.4, random_state=42)"
   ]
  },
  {
   "cell_type": "code",
   "execution_count": 26,
   "id": "f676b1aa",
   "metadata": {},
   "outputs": [],
   "source": [
    "df.to_csv('C:/Users/subbh/Desktop/data.csv', index=False)\n",
    "train_data.to_csv('C:/Users/subbh/Desktop/data_train.csv', index=False)\n",
    "eval_data.to_csv('C:/Users/subbh/Desktop/data_eval.csv', index=False)"
   ]
  },
  {
   "cell_type": "markdown",
   "id": "af055f90",
   "metadata": {},
   "source": [
    "#  Answers List"
   ]
  },
  {
   "cell_type": "code",
   "execution_count": 27,
   "id": "156954fc",
   "metadata": {},
   "outputs": [],
   "source": [
    "answers_list = df['answer'].tolist()\n",
    "unique_answers = list(set(answers_list))\n",
    "sorted_unique_answers = sorted(unique_answers)\n",
    "with open('C:/Users/subbh/Desktop/answer_space.txt', 'w') as file:\n",
    "    for answer in sorted_unique_answers:\n",
    "        file.write(answer + '\\n')"
   ]
  },
  {
   "cell_type": "markdown",
   "id": "dd42f940",
   "metadata": {},
   "source": [
    "We have uploaded all the files in kaggle for using GPU."
   ]
  }
 ],
 "metadata": {
  "kernelspec": {
   "display_name": "Python 3 (ipykernel)",
   "language": "python",
   "name": "python3"
  },
  "language_info": {
   "codemirror_mode": {
    "name": "ipython",
    "version": 3
   },
   "file_extension": ".py",
   "mimetype": "text/x-python",
   "name": "python",
   "nbconvert_exporter": "python",
   "pygments_lexer": "ipython3",
   "version": "3.11.5"
  }
 },
 "nbformat": 4,
 "nbformat_minor": 5
}
